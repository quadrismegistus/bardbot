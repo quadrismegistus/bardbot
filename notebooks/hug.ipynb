{
 "cells": [
  {
   "cell_type": "code",
   "execution_count": 1,
   "metadata": {},
   "outputs": [],
   "source": [
    "# !pip install transformers"
   ]
  },
  {
   "cell_type": "code",
   "execution_count": 2,
   "metadata": {},
   "outputs": [],
   "source": [
    "from transformers import GPT2Tokenizer, GPT2LMHeadModel\n",
    "\n",
    "tokenizer = GPT2Tokenizer.from_pretrained('gpt2')\n",
    "model = GPT2LMHeadModel.from_pretrained('gpt2')"
   ]
  },
  {
   "cell_type": "code",
   "execution_count": 7,
   "metadata": {},
   "outputs": [
    {
     "name": "stderr",
     "output_type": "stream",
     "text": [
      "Setting `pad_token_id` to `eos_token_id`:50256 for open-end generation.\n"
     ]
    }
   ],
   "source": [
    "s=\"\"\"\n",
    "When forty winters shall besiege thy brow,\n",
    "\"\"\"\n",
    "inputs = tokenizer(s, return_tensors=\"pt\")\n",
    "generation_output = model.generate(\n",
    "    **inputs,\n",
    "    do_sample=True, \n",
    "    max_length=50, \n",
    "    top_k=50, \n",
    "    top_p=0.95, \n",
    "    num_return_sequences=3\n",
    ")"
   ]
  },
  {
   "cell_type": "code",
   "execution_count": 8,
   "metadata": {},
   "outputs": [
    {
     "name": "stdout",
     "output_type": "stream",
     "text": [
      "\n",
      "When forty winters shall besiege thy brow,\n",
      "He shall take away thy right hand,\n",
      "And thy brother shall come down,\n",
      "And take up thy right arm,\n",
      "And thou shalt be king of the earth,\n",
      "\n"
     ]
    }
   ],
   "source": [
    "o=tokenizer.decode(generation_output[0])\n",
    "print(o.replace('\\n\\n','\\n'))"
   ]
  },
  {
   "cell_type": "code",
   "execution_count": 10,
   "metadata": {},
   "outputs": [
    {
     "name": "stdout",
     "output_type": "stream",
     "text": [
      "Output:\n",
      "----------------------------------------------------------------------------------------------------\n",
      "\n",
      "When forty winters shall besiege thy brow,\n",
      "He shall take away thy right hand,\n",
      "And thy brother shall come down,\n",
      "And take up thy right arm,\n",
      "And thou shalt be king of the earth,\n",
      "\n",
      "\n",
      "\n",
      "When forty winters shall besiege thy brow,\n",
      "When thou art the last of thy age,\n",
      "When he who slew thee must return,\n",
      "When thy blood shall stain thy garments.\n",
      "The two men who laid siege upon\n",
      "\n",
      "\n",
      "When forty winters shall besiege thy brow,\n",
      "You shall see and hear thy voice, and thou shalt behold the sound of all my songs,\n",
      "For I am the Lord of thy face.\n",
      "(3.1) The\n",
      "\n"
     ]
    }
   ],
   "source": [
    "print(\"Output:\\n\" + 100 * '-')\n",
    "for i, beam_output in enumerate(generation_output):\n",
    "    o=tokenizer.decode(beam_output)\n",
    "    print(o.replace('\\n\\n','\\n'))\n",
    "    print()"
   ]
  },
  {
   "cell_type": "code",
   "execution_count": 12,
   "metadata": {},
   "outputs": [],
   "source": [
    "# !pip install poesy"
   ]
  },
  {
   "cell_type": "code",
   "execution_count": null,
   "metadata": {},
   "outputs": [],
   "source": []
  }
 ],
 "metadata": {
  "interpreter": {
   "hash": "99c3488a746bccd77b7949f8f419451e1c962da56ebbaaae6e4d2e6c8c07eaa0"
  },
  "kernelspec": {
   "display_name": "Python 3.9.7 64-bit ('base': conda)",
   "language": "python",
   "name": "python3"
  },
  "language_info": {
   "codemirror_mode": {
    "name": "ipython",
    "version": 3
   },
   "file_extension": ".py",
   "mimetype": "text/x-python",
   "name": "python",
   "nbconvert_exporter": "python",
   "pygments_lexer": "ipython3",
   "version": "3.9.7"
  },
  "orig_nbformat": 4
 },
 "nbformat": 4,
 "nbformat_minor": 2
}
