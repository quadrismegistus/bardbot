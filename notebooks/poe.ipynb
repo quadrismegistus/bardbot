{
 "cells": [
  {
   "cell_type": "code",
   "execution_count": 65,
   "metadata": {},
   "outputs": [],
   "source": [
    "import sys; sys.path.insert(0,'..')\n",
    "from bardbot import *"
   ]
  },
  {
   "cell_type": "code",
   "execution_count": 66,
   "metadata": {},
   "outputs": [],
   "source": [
    "def generate(\n",
    "        s,\n",
    "        max_new_tokens=20,\n",
    "        top_k=50, \n",
    "        top_p=0.95,\n",
    "        num_return_sequences=1,\n",
    "        **kwargs\n",
    "    ):\n",
    "    tokenizer = get_tokenizer()\n",
    "    inputs = tokenizer(s, return_tensors=\"pt\")\n",
    "    \n",
    "    model=get_model()\n",
    "    generation_output = model.generate(\n",
    "        **inputs,\n",
    "        do_sample=True, \n",
    "        # max_length=max_length, \n",
    "        top_k=top_k, \n",
    "        top_p=top_p, \n",
    "        num_return_sequences=num_return_sequences,\n",
    "        max_new_tokens=max_new_tokens,\n",
    "        no_repeat_ngram_size=2\n",
    "    )\n",
    "    for out in generation_output:\n",
    "        o=tokenizer.decode(out)\n",
    "        yield o[len(s):]\n",
    "    #o=[tokenizer.decode(x) for x in generation_output[0]]\n",
    "    # return o"
   ]
  },
  {
   "cell_type": "code",
   "execution_count": 67,
   "metadata": {},
   "outputs": [],
   "source": [
    "# s='From fairest creatures we desire increase'\n",
    "# for x in generate(s,num_return_sequences=10):\n",
    "#     print([x])"
   ]
  },
  {
   "cell_type": "code",
   "execution_count": 68,
   "metadata": {},
   "outputs": [],
   "source": [
    "def get_num_sylls(w):\n",
    "    w=w.strip()\n",
    "    if not w: return 0\n",
    "    if not any(x.isalpha() for x in w): return 0\n",
    "    return p.Word(w).num_syll\n",
    "\n",
    "def get_lineobj(line):\n",
    "    return p.Text(line).lines()[0] if type(line)==str else line\n",
    "\n",
    "def rhymes(line1,line2,max_rhyme_dist=5):\n",
    "    line1=get_lineobj(line1)\n",
    "    line2=get_lineobj(line2)\n",
    "    word1=line1.words()[-1].token\n",
    "    word2=line2.words()[-1].token\n",
    "    if word1==word2: return False\n",
    "    dist=line1.rime_distance(line2)\n",
    "    # print(dist,line1,'|',line2)\n",
    "    return dist<=max_rhyme_dist\n",
    "\n",
    "def ends_on_stress(line):\n",
    "    lineobj=get_lineobj(line)\n",
    "    sylls=lineobj.syllables()\n",
    "    return sylls[-1].feats['prom.stress']>0"
   ]
  },
  {
   "cell_type": "code",
   "execution_count": 125,
   "metadata": {},
   "outputs": [],
   "source": [
    "def gen_poem(\n",
    "        prompt=\"Let us\",\n",
    "        num_lines=14,\n",
    "        num_sylls=10,\n",
    "        rhyme_scheme='abab cdcd efef gg',\n",
    "        max_tries=50,\n",
    "        num_return_sequences=10,\n",
    "        max_rhyme_dist=3):\n",
    "    lines=[]\n",
    "    rhyme_scheme=rhyme_scheme.replace(' ','')\n",
    "    tries=Counter()\n",
    "    while len(lines)<num_lines:\n",
    "        line_i=len(lines)\n",
    "        # if tries[line_i] and not tries[line_i]%100: print(tries[line_i],'...')\n",
    "        txt='\\n'.join(lines) if lines else prompt\n",
    "        giveup=False\n",
    "        for line in generate(txt,max_new_tokens=20,num_return_sequences=num_return_sequences):\n",
    "            tries[line_i]+=1\n",
    "            if not lines: line=prompt+line\n",
    "            toks = line.strip().split()\n",
    "            ns=0\n",
    "            linetoks=[]\n",
    "            for tok in toks:\n",
    "                nstok=get_num_sylls(tok)\n",
    "                if ns+nstok>num_sylls: break\n",
    "                linetoks.append(tok)\n",
    "                ns+=nstok\n",
    "            if ns!=num_sylls: continue\n",
    "            oline=' '.join(linetoks).strip()\n",
    "            if '\"' in oline: continue\n",
    "            if '(' in oline: continue\n",
    "            if ')' in oline: continue\n",
    "            if '[' in oline: continue\n",
    "            if ']' in oline: continue\n",
    "\n",
    "            if linetoks[-1][-1].isalpha(): continue\n",
    "            if '.' in oline[:-1]: continue\n",
    "            if '?' in oline[:-1]: continue\n",
    "\n",
    "            # print('?',oline)\n",
    "            oline=oline[0].upper()+oline[1:]\n",
    "            lineobj = p.Text(oline).lines()[0]\n",
    "            \n",
    "            if not ends_on_stress(lineobj): continue\n",
    "            \n",
    "            line_rhyme_letter=rhyme_scheme[line_i]\n",
    "            if lines:\n",
    "                line_i_matcher=rhyme_scheme.index(line_rhyme_letter)\n",
    "                if line_i_matcher<line_i:\n",
    "                    oline0 = lines[line_i_matcher]\n",
    "                    lineobj0 = p.Text(oline0).lines()[0]\n",
    "                    if not rhymes(lineobj, lineobj0, max_rhyme_dist=max_rhyme_dist):\n",
    "                        if tries[line_i]>=max_tries:\n",
    "                            lastw=get_lineobj(lines[line_i_matcher]).words()[-1].token\n",
    "                            print(f'!! Ugh! I tried {tries[line_i]} times, but I can\\'t rhyme on {lastw}! Going back to rewrite line {line_i_matcher+1}')\n",
    "                            print()\n",
    "                            lines=lines[:line_i_matcher]\n",
    "                            tries2=Counter()\n",
    "                            for li,lx in enumerate(lines): \n",
    "                                #opre=f'{li+1} [{tries[li]}] {lx}'\n",
    "                                tries2[li]=tries[li]\n",
    "                                print(f'{lx:<60} {rhyme_scheme[li]:<10} {li+1:<10} [{tries[li]}]')\n",
    "                            giveup=True\n",
    "                            tries=tries2\n",
    "                            # print(tries)\n",
    "                            break\n",
    "                        continue\n",
    "            if giveup: break\n",
    "            # opre=f'{line_i+1} [{tries[line_i]}] {oline}'\n",
    "            print(f'{oline:<60} {line_rhyme_letter:<10} {line_i+1:<10} [{tries[line_i]}]')\n",
    "            lines.append(oline)\n",
    "            break"
   ]
  },
  {
   "cell_type": "code",
   "execution_count": 126,
   "metadata": {},
   "outputs": [
    {
     "name": "stdout",
     "output_type": "stream",
     "text": [
      "Look in thy glass and let thy spirit be,                     a          1          [6]\n",
      "And have thou said unto us what thou shalt:                  b          2          [13]\n",
      "If thou dost not see the light, take thy heed.               a          3          [196]\n",
      "Thy spirit is gone out into the world,                       b          4          [6]\n",
      "And shall be seen, as it were, everywhere,                   c          5          [63]\n",
      "All the night— You saw not that it was light.                d          6          [77]\n",
      "For it had seen light The day that was born—                 c          7          [21]\n",
      "The world began to be turned upon it,                        d          8          [13]\n",
      "Because of its light So when it began,                       e          9          [1]\n",
      "The darkness that were In it shall come forth,               f          10         [2]\n",
      "And every shadow, every man:                                 e          11         [203]\n",
      "The dark shall fall down again From the earth,               f          12         [1]\n"
     ]
    }
   ],
   "source": [
    "gen_poem(\n",
    "    prompt='Look in thy glass and',\n",
    "    num_lines=14,\n",
    "    rhyme_scheme='abab cdcd efef gg',\n",
    "    max_rhyme_dist=5,\n",
    "    max_tries=1000,\n",
    "    num_return_sequences=10\n",
    ")"
   ]
  },
  {
   "cell_type": "code",
   "execution_count": null,
   "metadata": {},
   "outputs": [],
   "source": []
  }
 ],
 "metadata": {
  "interpreter": {
   "hash": "99c3488a746bccd77b7949f8f419451e1c962da56ebbaaae6e4d2e6c8c07eaa0"
  },
  "kernelspec": {
   "display_name": "Python 3.9.7 64-bit ('base': conda)",
   "language": "python",
   "name": "python3"
  },
  "language_info": {
   "codemirror_mode": {
    "name": "ipython",
    "version": 3
   },
   "file_extension": ".py",
   "mimetype": "text/x-python",
   "name": "python",
   "nbconvert_exporter": "python",
   "pygments_lexer": "ipython3",
   "version": "3.9.7"
  },
  "orig_nbformat": 4
 },
 "nbformat": 4,
 "nbformat_minor": 2
}
