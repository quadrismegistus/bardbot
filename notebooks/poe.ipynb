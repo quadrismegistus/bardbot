{
 "cells": [
  {
   "cell_type": "code",
   "execution_count": 3,
   "metadata": {},
   "outputs": [],
   "source": [
    "import sys; sys.path.insert(0,'..')\n",
    "from bardbot import *"
   ]
  },
  {
   "cell_type": "code",
   "execution_count": 40,
   "metadata": {},
   "outputs": [],
   "source": [
    "def generate(\n",
    "        s,\n",
    "        max_new_tokens=20,\n",
    "        top_k=50, \n",
    "        top_p=0.95,\n",
    "        **kwargs\n",
    "    ):\n",
    "    tokenizer = get_tokenizer()\n",
    "    inputs = tokenizer(s, return_tensors=\"pt\")\n",
    "    \n",
    "    model=get_model()\n",
    "    generation_output = model.generate(\n",
    "        **inputs,\n",
    "        do_sample=True, \n",
    "        # max_length=max_length, \n",
    "        top_k=top_k, \n",
    "        top_p=top_p, \n",
    "        num_return_sequences=1,\n",
    "        max_new_tokens=max_new_tokens,\n",
    "        no_repeat_ngram_size=2\n",
    "    )\n",
    "    o=tokenizer.decode(generation_output[0])\n",
    "    return o[len(s):]\n",
    "    #o=[tokenizer.decode(x) for x in generation_output[0]]\n",
    "    # return o"
   ]
  },
  {
   "cell_type": "code",
   "execution_count": 50,
   "metadata": {},
   "outputs": [
    {
     "name": "stdout",
     "output_type": "stream",
     "text": [
      "6.15 ns ± 0.0345 ns per loop (mean ± std. dev. of 7 runs, 100,000,000 loops each)\n"
     ]
    }
   ],
   "source": [
    "%%timeit\n",
    "s='From fairest creatures we desire increase'\n",
    "# generate(s)"
   ]
  },
  {
   "cell_type": "code",
   "execution_count": 42,
   "metadata": {},
   "outputs": [],
   "source": [
    "import prosodic as p\n",
    "p.config['print_to_screen']=0"
   ]
  },
  {
   "cell_type": "code",
   "execution_count": 43,
   "metadata": {},
   "outputs": [],
   "source": [
    "t=p.Text(s)"
   ]
  },
  {
   "cell_type": "code",
   "execution_count": 53,
   "metadata": {},
   "outputs": [
    {
     "name": "stdout",
     "output_type": "stream",
     "text": [
      "From fairest creatures we desire increase\n"
     ]
    }
   ],
   "source": [
    "s1=s\n",
    "s2='But as the riper should by time decease,'\n",
    "l1=p.Text(s1).lines()[0]\n",
    "l2=p.Text(s2).lines()[0]\n",
    "print(l1)"
   ]
  },
  {
   "cell_type": "code",
   "execution_count": 45,
   "metadata": {},
   "outputs": [
    {
     "data": {
      "text/plain": [
       "0.0"
      ]
     },
     "execution_count": 45,
     "metadata": {},
     "output_type": "execute_result"
    }
   ],
   "source": [
    "l1.rime_distance(l2)"
   ]
  },
  {
   "cell_type": "code",
   "execution_count": 71,
   "metadata": {},
   "outputs": [],
   "source": [
    "def get_num_sylls(w):\n",
    "    w=w.strip()\n",
    "    if not w: return 0\n",
    "    if not any(x.isalpha() for x in w): return 0\n",
    "    return p.Word(w).num_syll\n",
    "\n",
    "def get_lineobj(line):\n",
    "    return p.Text(line).lines()[0] if type(line)==str else line\n",
    "\n",
    "def rhymes(line1,line2,max_rhyme_dist=5):\n",
    "    line1=get_lineobj(line1)\n",
    "    line2=get_lineobj(line2)\n",
    "    word1=line1.words()[-1].token\n",
    "    word2=line2.words()[-1].token\n",
    "    if word1==word2: return False\n",
    "    dist=line1.rime_distance(line2)\n",
    "    # print(dist,line1,'|',line2)\n",
    "    return dist<=max_rhyme_dist\n",
    "\n",
    "def ends_on_stress(line):\n",
    "    lineobj=get_lineobj(line)\n",
    "    sylls=lineobj.syllables()\n",
    "    return sylls[-1].feats['prom.stress']>0"
   ]
  },
  {
   "cell_type": "code",
   "execution_count": 74,
   "metadata": {},
   "outputs": [],
   "source": [
    "def gen_poem(\n",
    "        prompt=\"Let us\",\n",
    "        num_lines=14,\n",
    "        num_sylls=10,\n",
    "        rhyme_scheme='abab cdcd efef gg',\n",
    "        max_rhyme_dist=3):\n",
    "    lines=[]\n",
    "    rhyme_scheme=rhyme_scheme.replace(' ','')\n",
    "    while len(lines)<num_lines:\n",
    "        line_i=len(lines)\n",
    "        txt='\\n'.join(lines) if lines else prompt\n",
    "        line = generate(txt,max_new_tokens=20).replace('\\n',' ')\n",
    "        if not lines: line=prompt+line\n",
    "        toks = line.strip().split()\n",
    "        ns=0\n",
    "        linetoks=[]\n",
    "        for tok in toks:\n",
    "            nstok=get_num_sylls(tok)\n",
    "            if ns+nstok>num_sylls: break\n",
    "            linetoks.append(tok)\n",
    "            ns+=nstok\n",
    "        if ns!=num_sylls: continue\n",
    "        # if linetoks[-1].isalpha(): continue\n",
    "        \n",
    "        oline=' '.join(linetoks).strip()\n",
    "        # print('?',oline)\n",
    "        lineobj = p.Text(oline).lines()[0]\n",
    "        \n",
    "        if not ends_on_stress(lineobj): continue\n",
    "        \n",
    "        if lines:\n",
    "            line_rhyme_letter=rhyme_scheme[line_i]\n",
    "            line_i_matcher=rhyme_scheme.index(line_rhyme_letter)\n",
    "            if line_i_matcher<line_i:\n",
    "                oline0 = lines[line_i_matcher]\n",
    "                lineobj0 = p.Text(oline0).lines()[0]\n",
    "                if not rhymes(lineobj, lineobj0, max_rhyme_dist=max_rhyme_dist): continue\n",
    "    \n",
    "        print(oline)\n",
    "        lines.append(oline)"
   ]
  },
  {
   "cell_type": "code",
   "execution_count": 76,
   "metadata": {},
   "outputs": [
    {
     "name": "stdout",
     "output_type": "stream",
     "text": [
      "Look in thy glass and cast a spell, and then,\n",
      "after thou shalt receive them, return home;\n",
      "In any case, all my life I have been\n"
     ]
    }
   ],
   "source": [
    "gen_poem(prompt='Look in thy glass and',num_lines=4,max_rhyme_dist=2)"
   ]
  },
  {
   "cell_type": "code",
   "execution_count": null,
   "metadata": {},
   "outputs": [],
   "source": []
  }
 ],
 "metadata": {
  "interpreter": {
   "hash": "99c3488a746bccd77b7949f8f419451e1c962da56ebbaaae6e4d2e6c8c07eaa0"
  },
  "kernelspec": {
   "display_name": "Python 3.9.7 64-bit ('base': conda)",
   "language": "python",
   "name": "python3"
  },
  "language_info": {
   "codemirror_mode": {
    "name": "ipython",
    "version": 3
   },
   "file_extension": ".py",
   "mimetype": "text/x-python",
   "name": "python",
   "nbconvert_exporter": "python",
   "pygments_lexer": "ipython3",
   "version": "3.9.7"
  },
  "orig_nbformat": 4
 },
 "nbformat": 4,
 "nbformat_minor": 2
}
