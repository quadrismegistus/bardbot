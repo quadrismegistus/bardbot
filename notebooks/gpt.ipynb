{
 "cells": [
  {
   "cell_type": "code",
   "execution_count": 1,
   "metadata": {},
   "outputs": [],
   "source": [
    "import sys; sys.path.insert(0,'..')\n",
    "from bardbot import *"
   ]
  },
  {
   "cell_type": "code",
   "execution_count": 2,
   "metadata": {},
   "outputs": [],
   "source": [
    "def get_model(model_name=MODEL_NAME):\n",
    "\tif not os.path.isdir(PATH_MODELS):\n",
    "\t\tprint(f\"Downloading {model_name} model...\")\n",
    "\t\tgpt2.download_gpt2(model_dir=PATH_MODELS, model_name=model_name)   # model is saved into current directory under /models/124M/\n",
    "\n",
    "get_model()"
   ]
  },
  {
   "cell_type": "code",
   "execution_count": 3,
   "metadata": {},
   "outputs": [],
   "source": [
    "\n",
    "def get_shaks(file_name=PATH_SHAKS):\n",
    "\tif not os.path.exists(PATH_TEXTS): os.makedirs(PATH_TEXTS)\n",
    "\tif not os.path.isfile(file_name):\n",
    "\t\turl = \"https://raw.githubusercontent.com/karpathy/char-rnn/master/data/tinyshakespeare/input.txt\"\n",
    "\t\tdata = requests.get(url)\n",
    "\t\twith open(file_name, 'w') as f:\n",
    "\t\t\tf.write(data.text)\n",
    "\n",
    "get_shaks()"
   ]
  },
  {
   "cell_type": "code",
   "execution_count": 4,
   "metadata": {},
   "outputs": [
    {
     "name": "stdout",
     "output_type": "stream",
     "text": [
      "Metal device set to: Apple M1 Pro\n",
      "\n",
      "systemMemory: 16.00 GB\n",
      "maxCacheSize: 5.33 GB\n",
      "\n"
     ]
    },
    {
     "name": "stderr",
     "output_type": "stream",
     "text": [
      "2022-01-27 15:41:36.548391: I tensorflow/core/common_runtime/pluggable_device/pluggable_device_factory.cc:305] Could not identify NUMA node of platform GPU ID 0, defaulting to 0. Your kernel may not have been built with NUMA support.\n",
      "2022-01-27 15:41:36.548669: I tensorflow/core/common_runtime/pluggable_device/pluggable_device_factory.cc:271] Created TensorFlow device (/job:localhost/replica:0/task:0/device:GPU:0 with 0 MB memory) -> physical PluggableDevice (device: 0, name: METAL, pci bus id: <undefined>)\n",
      "2022-01-27 15:41:37.664772: I tensorflow/core/common_runtime/pluggable_device/pluggable_device_factory.cc:305] Could not identify NUMA node of platform GPU ID 0, defaulting to 0. Your kernel may not have been built with NUMA support.\n",
      "2022-01-27 15:41:37.664797: I tensorflow/core/common_runtime/pluggable_device/pluggable_device_factory.cc:271] Created TensorFlow device (/job:localhost/replica:0/task:0/device:GPU:0 with 0 MB memory) -> physical PluggableDevice (device: 0, name: METAL, pci bus id: <undefined>)\n",
      "2022-01-27 15:41:39.691744: W tensorflow/core/platform/profile_utils/cpu_utils.cc:128] Failed to get CPU frequency: 0 Hz\n",
      "2022-01-27 15:41:39.699066: I tensorflow/core/grappler/optimizers/custom_graph_optimizer_registry.cc:112] Plugin optimizer for device_type GPU is enabled.\n"
     ]
    },
    {
     "name": "stdout",
     "output_type": "stream",
     "text": [
      "Loading checkpoint /Users/ryan/github/bardbot/data/models/124M/model.ckpt\n",
      "INFO:tensorflow:Restoring parameters from /Users/ryan/github/bardbot/data/models/124M/model.ckpt\n"
     ]
    },
    {
     "name": "stderr",
     "output_type": "stream",
     "text": [
      "2022-01-27 15:41:40.822177: I tensorflow/core/grappler/optimizers/custom_graph_optimizer_registry.cc:112] Plugin optimizer for device_type GPU is enabled.\n"
     ]
    },
    {
     "name": "stdout",
     "output_type": "stream",
     "text": [
      "Loading dataset...\n"
     ]
    },
    {
     "name": "stderr",
     "output_type": "stream",
     "text": [
      "100%|██████████| 1/1 [00:00<00:00,  9.22it/s]"
     ]
    },
    {
     "name": "stdout",
     "output_type": "stream",
     "text": [
      "dataset has 28413 tokens\n",
      "Training...\n"
     ]
    },
    {
     "name": "stderr",
     "output_type": "stream",
     "text": [
      "\n",
      "2022-01-27 15:41:41.568575: I tensorflow/core/grappler/optimizers/custom_graph_optimizer_registry.cc:112] Plugin optimizer for device_type GPU is enabled.\n",
      "2022-01-27 15:41:41.772483: I tensorflow/core/grappler/optimizers/custom_graph_optimizer_registry.cc:112] Plugin optimizer for device_type GPU is enabled.\n",
      "2022-01-27 15:42:36.224803: I tensorflow/core/grappler/optimizers/custom_graph_optimizer_registry.cc:112] Plugin optimizer for device_type GPU is enabled.\n"
     ]
    },
    {
     "name": "stdout",
     "output_type": "stream",
     "text": [
      "[1 | 56.15] loss=4.12 avg=4.12\n",
      "[2 | 92.09] loss=4.02 avg=4.07\n",
      "[3 | 124.69] loss=3.76 avg=3.97\n",
      "[4 | 172.94] loss=3.95 avg=3.96\n",
      "[5 | 212.77] loss=3.85 avg=3.94\n",
      "[6 | 246.69] loss=3.68 avg=3.89\n",
      "[7 | 289.60] loss=3.66 avg=3.86\n"
     ]
    }
   ],
   "source": [
    "def get_sess(file_name=PATH_SHAKS, model_name=MODEL_NAME, steps=10):\n",
    "\tsess = gpt2.start_tf_sess()\n",
    "\tif not os.path.exists(PATH_CHKP): os.makedirs(PATH_CHKP)\n",
    "\ttry:\n",
    "\t\tgpt2.load_gpt2(\n",
    "\t\t\tsess,\n",
    "\t\t\tcheckpoint=CHECKPOINT,\n",
    "\t\t\trun_name=RUN_NAME,\n",
    "\t\t\tcheckpoint_dir=PATH_CHKP,\n",
    "\t\t\tmodel_name=MODEL_NAME,\n",
    "\t\t\tmodel_dir=PATH_MODELS,\n",
    "\t\t)\n",
    "\texcept FileNotFoundError:\t\n",
    "\t\tgpt2.finetune(\n",
    "\t\t\tsess,\n",
    "\t\t\tdataset=file_name,\n",
    "\t\t\tmodel_name=model_name,\n",
    "\t\t\tmodel_dir=PATH_MODELS,\n",
    "\t\t\tsteps=steps,\n",
    "\t\t\trun_name=RUN_NAME,\n",
    "\t\t\trestore_from=CHECKPOINT,\n",
    "\t\t\tcheckpoint_dir=PATH_CHKP,\n",
    "\t\t)\n",
    "\treturn sess\n",
    "\n",
    "sess = get_sess()"
   ]
  },
  {
   "cell_type": "code",
   "execution_count": null,
   "metadata": {},
   "outputs": [
    {
     "ename": "NameError",
     "evalue": "name 'generate' is not defined",
     "output_type": "error",
     "traceback": [
      "\u001b[0;31m---------------------------------------------------------------------------\u001b[0m",
      "\u001b[0;31mNameError\u001b[0m                                 Traceback (most recent call last)",
      "Input \u001b[0;32mIn [7]\u001b[0m, in \u001b[0;36m<module>\u001b[0;34m\u001b[0m\n\u001b[0;32m----> 1\u001b[0m \u001b[43mgenerate\u001b[49m(sess)\n",
      "\u001b[0;31mNameError\u001b[0m: name 'generate' is not defined"
     ]
    }
   ],
   "source": [
    "x=gpt2.generate(\n",
    "    sess,\n",
    "    run_name=RUN_NAME,\n",
    "    checkpoint_dir=PATH_CHKP,\n",
    "    model_name=MODEL_NAME,\n",
    "    model_dir=PATH_MODELS,\n",
    "    sample_dir=PATH_SAMPLES,\n",
    "    return_as_list=True,\n",
    "    #truncate=None,\n",
    "    #destination_path=None\n",
    ")"
   ]
  },
  {
   "cell_type": "code",
   "execution_count": null,
   "metadata": {},
   "outputs": [],
   "source": [
    "print(x)"
   ]
  }
 ],
 "metadata": {
  "interpreter": {
   "hash": "99c3488a746bccd77b7949f8f419451e1c962da56ebbaaae6e4d2e6c8c07eaa0"
  },
  "kernelspec": {
   "display_name": "Python 3 (ipykernel)",
   "language": "python",
   "name": "python3"
  },
  "language_info": {
   "codemirror_mode": {
    "name": "ipython",
    "version": 3
   },
   "file_extension": ".py",
   "mimetype": "text/x-python",
   "name": "python",
   "nbconvert_exporter": "python",
   "pygments_lexer": "ipython3",
   "version": "3.9.7"
  }
 },
 "nbformat": 4,
 "nbformat_minor": 4
}
